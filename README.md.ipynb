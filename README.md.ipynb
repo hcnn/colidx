{
 "cells": [
  {
   "cell_type": "markdown",
   "metadata": {},
   "source": [
    "### Column-Major Order as in Fortran\n",
    "`colidx` is only included for demonstration purposes. \n",
    "There is no advantage of using `hcnn/rowidx` and `hcnn/colidx` at the same time.\n",
    "It would just cause confusion.\n"
   ]
  },
  {
   "cell_type": "code",
   "execution_count": 1,
   "metadata": {
    "ExecuteTime": {
     "end_time": "2018-09-03T09:07:58.270009Z",
     "start_time": "2018-09-03T09:07:58.118571Z"
    }
   },
   "outputs": [
    {
     "name": "stdout",
     "output_type": "stream",
     "text": [
      "\n",
      "Column-Major Order (Fortran):\n",
      " 1.0 4.0\n",
      " 2.0 5.0\n",
      " 3.0 6.0\n",
      "\n",
      "Position in Array:\n",
      " 0 3\n",
      " 1 4\n",
      " 2 5\n"
     ]
    }
   ],
   "source": [
    "#include <stddef.h>\n",
    "#include <stdio.h>\n",
    "\n",
    "size_t colidx(size_t i, size_t j, size_t nrows){\n",
    "    return i + j*nrows;\n",
    "}\n",
    "\n",
    "int main(){\n",
    "    double x[] = {1,2,3,4,5,6};\n",
    "    size_t n = 3;\n",
    "    size_t m = 2;\n",
    "\n",
    "    printf(\"\\n%s\\n\", \"Column-Major Order (Fortran):\");\n",
    "    for(size_t i=0; i<n; i++){\n",
    "        for(size_t j=0; j<m; j++){\n",
    "            printf(\"%4.1f\", x[colidx(i,j,n)]);\n",
    "        }\n",
    "        printf(\"\\n\");\n",
    "    }\n",
    "\n",
    "    printf(\"\\n%s\\n\", \"Position in Array:\");\n",
    "    for(size_t i=0; i<n; i++){\n",
    "        for(size_t j=0; j<m; j++){\n",
    "            printf(\"%2d\", (int)colidx(i,j,n));\n",
    "        }\n",
    "        printf(\"\\n\");\n",
    "    }\n",
    "}"
   ]
  }
 ],
 "metadata": {
  "kernelspec": {
   "display_name": "C",
   "language": "c",
   "name": "c"
  },
  "language_info": {
   "file_extension": ".c",
   "mimetype": "text/plain",
   "name": "c"
  },
  "toc": {
   "base_numbering": 1,
   "nav_menu": {},
   "number_sections": true,
   "sideBar": true,
   "skip_h1_title": false,
   "title_cell": "Table of Contents",
   "title_sidebar": "Contents",
   "toc_cell": false,
   "toc_position": {},
   "toc_section_display": true,
   "toc_window_display": false
  },
  "varInspector": {
   "cols": {
    "lenName": 16,
    "lenType": 16,
    "lenVar": 40
   },
   "kernels_config": {
    "python": {
     "delete_cmd_postfix": "",
     "delete_cmd_prefix": "del ",
     "library": "var_list.py",
     "varRefreshCmd": "print(var_dic_list())"
    },
    "r": {
     "delete_cmd_postfix": ") ",
     "delete_cmd_prefix": "rm(",
     "library": "var_list.r",
     "varRefreshCmd": "cat(var_dic_list()) "
    }
   },
   "types_to_exclude": [
    "module",
    "function",
    "builtin_function_or_method",
    "instance",
    "_Feature"
   ],
   "window_display": false
  }
 },
 "nbformat": 4,
 "nbformat_minor": 2
}
